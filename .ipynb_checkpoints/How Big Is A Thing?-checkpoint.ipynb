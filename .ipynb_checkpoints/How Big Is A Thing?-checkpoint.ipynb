{
 "cells": [
  {
   "cell_type": "markdown",
   "metadata": {},
   "source": [
    "Use textblob to get hypernyms from wordnet\n",
    "\n",
    "https://stevenloria.com/wordnet-tutorial/"
   ]
  },
  {
   "cell_type": "code",
   "execution_count": 198,
   "metadata": {
    "collapsed": true
   },
   "outputs": [],
   "source": [
    "from textblob import Word"
   ]
  },
  {
   "cell_type": "markdown",
   "metadata": {},
   "source": [
    "Write a function that will get a noun's hypernym:"
   ]
  },
  {
   "cell_type": "code",
   "execution_count": 199,
   "metadata": {
    "collapsed": true
   },
   "outputs": [],
   "source": [
    "def get_hypernym(askedfor):\n",
    "    # put in a word, get a list of other words\n",
    "    word = Word(askedfor)\n",
    "    if word.synsets:\n",
    "        generalsenses = word.synsets[0]\n",
    "        next_level = [h.name().split(\".\")[0] for h in  generalsenses.hypernyms()]\n",
    "        print('A {} is a/an {}'.format(askedfor, next_level[0]))\n",
    "        return(plainword)\n",
    "    else:\n",
    "        print('{} is NOT a word'.format(askedfor))\n",
    "        return('{} is NOT a word'.format(askedfor))\n"
   ]
  },
  {
   "cell_type": "markdown",
   "metadata": {},
   "source": [
    "Some basic test word lists:"
   ]
  },
  {
   "cell_type": "code",
   "execution_count": 200,
   "metadata": {
    "collapsed": true
   },
   "outputs": [],
   "source": [
    "test_words = [\"pool\", \"sushi\", \"dog\", \"sddfds\", \"shame\", \"pickup_truck\", \"african_leopard\", \"mailbox\"]\n",
    "test_words_2 = [\"bug\", \"fox\", \"salad\", \"chair\", \"table\", \"nintendo\", \"trash_can\"]"
   ]
  },
  {
   "cell_type": "code",
   "execution_count": 201,
   "metadata": {
    "collapsed": false
   },
   "outputs": [
    {
     "name": "stdout",
     "output_type": "stream",
     "text": [
      "A pool is a/an excavation\n"
     ]
    },
    {
     "ename": "NameError",
     "evalue": "global name 'plainword' is not defined",
     "output_type": "error",
     "traceback": [
      "\u001b[0;31m---------------------------------------------------------------------------\u001b[0m",
      "\u001b[0;31mNameError\u001b[0m                                 Traceback (most recent call last)",
      "\u001b[0;32m<ipython-input-201-33820a984531>\u001b[0m in \u001b[0;36m<module>\u001b[0;34m()\u001b[0m\n\u001b[1;32m      1\u001b[0m \u001b[0;32mfor\u001b[0m \u001b[0mt\u001b[0m \u001b[0;32min\u001b[0m \u001b[0mtest_words\u001b[0m\u001b[0;34m:\u001b[0m\u001b[0;34m\u001b[0m\u001b[0m\n\u001b[0;32m----> 2\u001b[0;31m     \u001b[0mget_hypernym\u001b[0m\u001b[0;34m(\u001b[0m\u001b[0mt\u001b[0m\u001b[0;34m)\u001b[0m\u001b[0;34m\u001b[0m\u001b[0m\n\u001b[0m",
      "\u001b[0;32m<ipython-input-199-3512b72192b1>\u001b[0m in \u001b[0;36mget_hypernym\u001b[0;34m(askedfor)\u001b[0m\n\u001b[1;32m      6\u001b[0m         \u001b[0mnext_level\u001b[0m \u001b[0;34m=\u001b[0m \u001b[0;34m[\u001b[0m\u001b[0mh\u001b[0m\u001b[0;34m.\u001b[0m\u001b[0mname\u001b[0m\u001b[0;34m(\u001b[0m\u001b[0;34m)\u001b[0m\u001b[0;34m.\u001b[0m\u001b[0msplit\u001b[0m\u001b[0;34m(\u001b[0m\u001b[0;34m\".\"\u001b[0m\u001b[0;34m)\u001b[0m\u001b[0;34m[\u001b[0m\u001b[0;36m0\u001b[0m\u001b[0;34m]\u001b[0m \u001b[0;32mfor\u001b[0m \u001b[0mh\u001b[0m \u001b[0;32min\u001b[0m  \u001b[0mgeneralsenses\u001b[0m\u001b[0;34m.\u001b[0m\u001b[0mhypernyms\u001b[0m\u001b[0;34m(\u001b[0m\u001b[0;34m)\u001b[0m\u001b[0;34m]\u001b[0m\u001b[0;34m\u001b[0m\u001b[0m\n\u001b[1;32m      7\u001b[0m         \u001b[0;32mprint\u001b[0m\u001b[0;34m(\u001b[0m\u001b[0;34m'A {} is a/an {}'\u001b[0m\u001b[0;34m.\u001b[0m\u001b[0mformat\u001b[0m\u001b[0;34m(\u001b[0m\u001b[0maskedfor\u001b[0m\u001b[0;34m,\u001b[0m \u001b[0mnext_level\u001b[0m\u001b[0;34m[\u001b[0m\u001b[0;36m0\u001b[0m\u001b[0;34m]\u001b[0m\u001b[0;34m)\u001b[0m\u001b[0;34m)\u001b[0m\u001b[0;34m\u001b[0m\u001b[0m\n\u001b[0;32m----> 8\u001b[0;31m         \u001b[0;32mreturn\u001b[0m\u001b[0;34m(\u001b[0m\u001b[0mplainword\u001b[0m\u001b[0;34m)\u001b[0m\u001b[0;34m\u001b[0m\u001b[0m\n\u001b[0m\u001b[1;32m      9\u001b[0m     \u001b[0;32melse\u001b[0m\u001b[0;34m:\u001b[0m\u001b[0;34m\u001b[0m\u001b[0m\n\u001b[1;32m     10\u001b[0m         \u001b[0;32mprint\u001b[0m\u001b[0;34m(\u001b[0m\u001b[0;34m'{} is NOT a word'\u001b[0m\u001b[0;34m.\u001b[0m\u001b[0mformat\u001b[0m\u001b[0;34m(\u001b[0m\u001b[0maskedfor\u001b[0m\u001b[0;34m)\u001b[0m\u001b[0;34m)\u001b[0m\u001b[0;34m\u001b[0m\u001b[0m\n",
      "\u001b[0;31mNameError\u001b[0m: global name 'plainword' is not defined"
     ]
    }
   ],
   "source": [
    "for t in test_words:\n",
    "    get_hypernym(t)"
   ]
  },
  {
   "cell_type": "markdown",
   "metadata": {},
   "source": [
    "Import my edited MTurk'd corpus of ~1200 words and sizes"
   ]
  },
  {
   "cell_type": "code",
   "execution_count": null,
   "metadata": {
    "collapsed": false
   },
   "outputs": [],
   "source": [
    "import csv\n",
    "\n",
    "corpus_sizes = {}\n",
    "\n",
    "with open('corpus.csv', 'rU') as csvfile:\n",
    "    readCSV = csv.reader(csvfile, dialect=csv)\n",
    "    for row in readCSV:\n",
    "        corpus_sizes[row[0].lower()] = row[1]\n",
    "#         print(row[0].lower(), row[1])\n",
    "\n",
    "# When using plaintext file use delimiter='\\t' to read"
   ]
  },
  {
   "cell_type": "markdown",
   "metadata": {},
   "source": [
    "Create basic dictionary of the 10 bins and corresponding sizes."
   ]
  },
  {
   "cell_type": "code",
   "execution_count": null,
   "metadata": {
    "collapsed": true
   },
   "outputs": [],
   "source": [
    "binned_sizes = {\n",
    "    1 : \"Insect ~ 5mm\",\n",
    "    2 : \"Thumbnail ~ 20mm\",\n",
    "    3 : \"Index Finger ~ 80mm\",\n",
    "    4 : \"Hand, a fist, a baseball ~ 150mm\",\n",
    "    5 : \"Loaf of bread or a cat ~ 300mm\",\n",
    "    6 : \"Full arm length ~ 1m\",\n",
    "    7 : \"Adult person ~ 2.5m\",\n",
    "    8 : \"Car ~ 4m\",\n",
    "    9 : \"House or a large Tree ~ 10m\",\n",
    "    10 :\" Football field ~ 50m+\",\n",
    "}"
   ]
  },
  {
   "cell_type": "code",
   "execution_count": null,
   "metadata": {
    "collapsed": false
   },
   "outputs": [],
   "source": [
    "nums = [1,3,10,29,7,5]\n",
    "\n",
    "def is_num_a_size(num):\n",
    "    if n in binned_sizes:\n",
    "        print(\"{} is about the size of a/an {}\".format(n, binned_sizes[n]))\n",
    "        return(n)\n",
    "    else:\n",
    "        print(\"{} is not in binned_sizes\".format(n))\n",
    "\n",
    "print([is_num_a_size(n) for n in nums])"
   ]
  },
  {
   "cell_type": "markdown",
   "metadata": {},
   "source": [
    "Write functions to get either the bin number or description of a noun string"
   ]
  },
  {
   "cell_type": "code",
   "execution_count": null,
   "metadata": {
    "collapsed": false
   },
   "outputs": [],
   "source": [
    "def get_num_size_from_corpus(askword):\n",
    "    print(corpus_sizes[askword])\n",
    "    return(corpus_sizes[askword])\n",
    "    \n",
    "def get_desc_size_from_corpus(original_word, askword):\n",
    "    num_size = corpus_sizes[askword]\n",
    "    msg = binned_sizes[int(num_size)].lower()\n",
    "    print(\"A {} is about the size of a {}.\".format(original_word, msg))\n",
    "\n",
    "get_size_from_corpus('dog')\n",
    "get_desc_size_from_corpus('golden_retriever', 'dog')"
   ]
  },
  {
   "cell_type": "code",
   "execution_count": null,
   "metadata": {
    "collapsed": false
   },
   "outputs": [],
   "source": [
    "def is_hypernym_in_corpus(askedfor):\n",
    "    # put in a word, get a list of other words\n",
    "    word = Word(askedfor)\n",
    "    if word.synsets:\n",
    "        generalsenses = word.synsets[0]\n",
    "        next_level = [h.name().split(\".\")[0] for h in  generalsenses.hypernyms()]\n",
    "        if next_level[0] in corpus_sizes:\n",
    "            print('{} >>> {}'.format(askedfor, next_level[0]))            \n",
    "            print(get_desc_size_from_corpus(askedfor, next_level[0]))\n",
    "            print('\\n')\n",
    "            return(next_level)\n",
    "        else:\n",
    "            print('A {} is a \"{}\"'.format(askedfor, next_level[0]))\n",
    "            print('But hypernym \"{}\" is not in corpus'.format(next_level[0]))\n",
    "    else:\n",
    "        print('{} does not have synsets.'.format(askedfor))\n",
    "        return(False)"
   ]
  },
  {
   "cell_type": "code",
   "execution_count": null,
   "metadata": {
    "collapsed": false
   },
   "outputs": [],
   "source": [
    "for t in test_words_2:\n",
    "    is_hypernym_in_corpus(t)"
   ]
  },
  {
   "cell_type": "code",
   "execution_count": null,
   "metadata": {
    "collapsed": false
   },
   "outputs": [],
   "source": [
    "is_hypernym_in_corpus(\"flamingo\")"
   ]
  },
  {
   "cell_type": "code",
   "execution_count": null,
   "metadata": {
    "collapsed": false
   },
   "outputs": [],
   "source": [
    "is_hypernym_in_corpus(\"scottish_terrier\")"
   ]
  },
  {
   "cell_type": "code",
   "execution_count": null,
   "metadata": {
    "collapsed": false
   },
   "outputs": [],
   "source": [
    "is_hypernym_in_corpus(\"digital_computer\")"
   ]
  },
  {
   "cell_type": "code",
   "execution_count": null,
   "metadata": {
    "collapsed": false
   },
   "outputs": [],
   "source": [
    "is_hypernym_in_corpus(\"edible_fruit\")"
   ]
  },
  {
   "cell_type": "code",
   "execution_count": 211,
   "metadata": {
    "collapsed": true
   },
   "outputs": [],
   "source": [
    "def how_big_is_a(askedfor, counter):\n",
    "    # recurse_is_hypernym_in_corpus def\n",
    "    # put in a word, get a list of other words\n",
    "    # TODO - add a kwargs for Original word so it'll get passed thru to print\n",
    "    \n",
    "    firstquery = askedfor\n",
    "    word = Word(askedfor)\n",
    "    print(\"A {} is a...\".format(firstquery))\n",
    "    if word.synsets:\n",
    "        generalsenses = word.synsets[0]\n",
    "        next_level = [h.name().split(\".\")[0] for h in  generalsenses.hypernyms()]\n",
    "        if next_level[0] in corpus_sizes:\n",
    "            print('\\n{} >>> {}\\n'.format(firstquery, next_level[0]))            \n",
    "            print(get_desc_size_from_corpus(askedfor, next_level[0]))\n",
    "            print('\\n')\n",
    "            return(next_level)\n",
    "            counter = counter + 1\n",
    "        \n",
    "        elif counter < 5:\n",
    "            counter = counter + 1\n",
    "            how_big_is_a(next_level[0], counter)\n",
    "            return(next_level[0])\n",
    "        \n",
    "        else:\n",
    "            print('A {} is a \"{}\"'.format(askedfor, next_level[0]))\n",
    "            print('But hypernym \"{}\" is not in corpus'.format(next_level[0]))\n",
    "            return(False)\n",
    "    else:\n",
    "        print('{} does not have synsets.'.format(askedfor))\n",
    "        return(False)"
   ]
  },
  {
   "cell_type": "code",
   "execution_count": 212,
   "metadata": {
    "collapsed": false
   },
   "outputs": [
    {
     "name": "stdout",
     "output_type": "stream",
     "text": [
      "A laptop is a...\n",
      "A portable_computer is a...\n",
      "A personal_computer is a...\n",
      "A digital_computer is a...\n",
      "\n",
      "digital_computer >>> computer\n",
      "\n",
      "A digital_computer is about the size of a loaf of bread or a cat ~ 300mm.\n",
      "None\n",
      "\n",
      "\n"
     ]
    },
    {
     "data": {
      "text/plain": [
       "u'portable_computer'"
      ]
     },
     "execution_count": 212,
     "metadata": {},
     "output_type": "execute_result"
    }
   ],
   "source": [
    "how_big_is_a(\"laptop\", 0)"
   ]
  },
  {
   "cell_type": "code",
   "execution_count": null,
   "metadata": {
    "collapsed": true
   },
   "outputs": [],
   "source": [
    "\n",
    "\"\"\"\n",
    "def opt_fun(x1, x2, *positional_parameters, **keyword_parameters):\n",
    "...     if ('optional' in keyword_parameters):\n",
    "...         print 'optional parameter found, it is ', keyword_parameters['optional']\n",
    "...     else:\n",
    "...         print 'no optional parameter, sorry'\n",
    "\n",
    "\n",
    "\n",
    "def recurse_kwargs_is_hypernym_in_corpus(askedfor, *original):\n",
    "    # put in a word, get a list of other words\n",
    "    counter = 0\n",
    "    firstquery = askedfor\n",
    "    word = Word(askedfor)\n",
    "    if word.synsets:\n",
    "        generalsenses = word.synsets[0]\n",
    "        next_level = [h.name().split(\".\")[0] for h in  generalsenses.hypernyms()]\n",
    "        if next_level[0] in corpus_sizes:\n",
    "            print('{} >>> {}'.format(firstquery, next_level[0]))            \n",
    "            print(get_desc_size_from_corpus(askedfor, next_level[0]))\n",
    "            print('\\n')\n",
    "            return(next_level)\n",
    "        elif counter < 5:\n",
    "            recurse_is_hypernym_in_corpus(next_level[0], firstquery)\n",
    "            counter += 1\n",
    "            return(next_level[0])\n",
    "        else:\n",
    "            print('A {} is a \"{}\"'.format(askedfor, next_level[0]))\n",
    "            print('But hypernym \"{}\" is not in corpus'.format(next_level[0]))\n",
    "            return(False)\n",
    "    else:\n",
    "        print('{} does not have synsets.'.format(askedfor))\n",
    "        return(False)\n",
    "    \n",
    "\"\"\""
   ]
  },
  {
   "cell_type": "code",
   "execution_count": null,
   "metadata": {
    "collapsed": true
   },
   "outputs": [],
   "source": []
  },
  {
   "cell_type": "code",
   "execution_count": null,
   "metadata": {
    "collapsed": false
   },
   "outputs": [],
   "source": [
    "# recurse_kwargs_is_hypernym_in_corpus(\"boston_terrier\")"
   ]
  }
 ],
 "metadata": {
  "anaconda-cloud": {},
  "kernelspec": {
   "display_name": "Python [Root]",
   "language": "python",
   "name": "Python [Root]"
  },
  "language_info": {
   "codemirror_mode": {
    "name": "ipython",
    "version": 2
   },
   "file_extension": ".py",
   "mimetype": "text/x-python",
   "name": "python",
   "nbconvert_exporter": "python",
   "pygments_lexer": "ipython2",
   "version": "2.7.12"
  }
 },
 "nbformat": 4,
 "nbformat_minor": 0
}
