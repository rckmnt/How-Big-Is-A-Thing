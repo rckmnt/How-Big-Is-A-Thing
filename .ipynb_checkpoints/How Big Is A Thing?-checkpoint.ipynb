{
 "cells": [
  {
   "cell_type": "markdown",
   "metadata": {},
   "source": [
    "Use textblob to get hypernyms from wordnet\n",
    "\n",
    "https://stevenloria.com/wordnet-tutorial/"
   ]
  },
  {
   "cell_type": "code",
   "execution_count": 1,
   "metadata": {
    "collapsed": true
   },
   "outputs": [],
   "source": [
    "from textblob import Word"
   ]
  },
  {
   "cell_type": "markdown",
   "metadata": {},
   "source": [
    "Write a function that will get a noun's hypernym:"
   ]
  },
  {
   "cell_type": "code",
   "execution_count": 2,
   "metadata": {
    "collapsed": true
   },
   "outputs": [],
   "source": [
    "def get_hypernym(askedfor):\n",
    "    # put in a word, get a list of other words\n",
    "    word = Word(askedfor)\n",
    "    if word.synsets:\n",
    "        generalsenses = word.synsets[0]\n",
    "        next_level = [h.name().split(\".\")[0] for h in  generalsenses.hypernyms()]\n",
    "        print('A {} is a/an {}'.format(askedfor, next_level[0]))\n",
    "        return(plainword)\n",
    "    else:\n",
    "        print('{} is NOT a word'.format(askedfor))\n",
    "        return('{} is NOT a word'.format(askedfor))\n"
   ]
  },
  {
   "cell_type": "markdown",
   "metadata": {},
   "source": [
    "Some basic test word lists:"
   ]
  },
  {
   "cell_type": "code",
   "execution_count": 109,
   "metadata": {
    "collapsed": true
   },
   "outputs": [],
   "source": [
    "test_words = [\"pool\", \"sushi\", \"dog\", \"sddfds\", \"shame\", \"pickup_truck\", \"african_leopard\", \"mailbox\"]\n",
    "test_words_2 = [\"bug\", \"fox\", \"salad\", \"chair\", \"table\", \"nintendo\", \"trash_can\"]"
   ]
  },
  {
   "cell_type": "code",
   "execution_count": 4,
   "metadata": {
    "collapsed": false
   },
   "outputs": [
    {
     "name": "stdout",
     "output_type": "stream",
     "text": [
      "A pool is a/an excavation\n",
      "A sushi is a/an dish\n",
      "sddfds is NOT a word\n",
      "A shame is a/an feeling\n",
      "A pickup_truck is a/an truck\n",
      "african_leopard is NOT a word\n",
      "A mailbox is a/an box\n"
     ]
    }
   ],
   "source": [
    "for t in test_words:\n",
    "    get_hypernym(t)"
   ]
  },
  {
   "cell_type": "markdown",
   "metadata": {},
   "source": [
    "Import my edited MTurk'd corpus of ~1200 words and sizes"
   ]
  },
  {
   "cell_type": "code",
   "execution_count": 71,
   "metadata": {
    "collapsed": false
   },
   "outputs": [],
   "source": [
    "import csv\n",
    "\n",
    "corpus_sizes = {}\n",
    "\n",
    "with open('corpus.csv', 'rU') as csvfile:\n",
    "    readCSV = csv.reader(csvfile, dialect=csv)\n",
    "    for row in readCSV:\n",
    "        corpus_sizes[row[0].lower()] = row[1]\n",
    "#         print(row[0].lower(), row[1])\n",
    "\n",
    "# When using plaintext file use delimiter='\\t' to read"
   ]
  },
  {
   "cell_type": "markdown",
   "metadata": {},
   "source": [
    "Create basic dictionary of the 10 bins and corresponding sizes."
   ]
  },
  {
   "cell_type": "code",
   "execution_count": 112,
   "metadata": {
    "collapsed": true
   },
   "outputs": [],
   "source": [
    "binned_sizes = {\n",
    "    1 : \"Insect ~ 5mm\",\n",
    "    2 : \"Thumbnail ~ 20mm\",\n",
    "    3 : \"Index Finger ~ 80mm\",\n",
    "    4 : \"Hand, a fist, a baseball ~ 150mm\",\n",
    "    5 : \"Loaf of bread or a cat ~ 300mm\",\n",
    "    6 : \"Full arm length ~ 1m\",\n",
    "    7 : \"Adult person ~ 2.5m\",\n",
    "    8 : \"Car ~ 4m\",\n",
    "    9 : \"House or a large Tree ~ 10m\",\n",
    "    10 :\" Football field ~ 50m+\",\n",
    "}"
   ]
  },
  {
   "cell_type": "code",
   "execution_count": 116,
   "metadata": {
    "collapsed": false
   },
   "outputs": [
    {
     "name": "stdout",
     "output_type": "stream",
     "text": [
      "1 is about the size of a/an Insect ~ 5mm\n",
      "3 is about the size of a/an Index Finger ~ 80mm\n",
      "10 is about the size of a/an  Football field ~ 50m+\n",
      "29 is not in binned_sizes\n",
      "7 is about the size of a/an Adult person ~ 2.5m\n",
      "5 is about the size of a/an Loaf of bread or a cat ~ 300mm\n",
      "[1, 3, 10, None, 7, 5]\n"
     ]
    }
   ],
   "source": [
    "nums = [1,3,10,29,7,5]\n",
    "\n",
    "def is_num_a_size(num):\n",
    "    if n in binned_sizes:\n",
    "        print(\"{} is about the size of a/an {}\".format(n, binned_sizes[n]))\n",
    "        return(n)\n",
    "    else:\n",
    "        print(\"{} is not in binned_sizes\".format(n))\n",
    "\n",
    "print([is_num_a_size(n) for n in nums])"
   ]
  },
  {
   "cell_type": "markdown",
   "metadata": {},
   "source": [
    "Write functions to get either the bin number or description of a noun string"
   ]
  },
  {
   "cell_type": "code",
   "execution_count": 111,
   "metadata": {
    "collapsed": false
   },
   "outputs": [
    {
     "name": "stdout",
     "output_type": "stream",
     "text": [
      "5\n",
      "A golden_retriever is about the size of a loaf of bread, cat ~ 300mm.\n"
     ]
    }
   ],
   "source": [
    "def get_num_size_from_corpus(askword):\n",
    "    print(corpus_sizes[askword])\n",
    "    return(corpus_sizes[askword])\n",
    "    \n",
    "def get_desc_size_from_corpus(original_word, askword):\n",
    "    num_size = corpus_sizes[askword]\n",
    "    msg = binned_sizes[int(num_size)].lower()\n",
    "    print(\"A {} is about the size of a {}.\".format(original_word, msg))\n",
    "\n",
    "get_size_from_corpus('dog')\n",
    "get_desc_size_from_corpus('golden_retriever', 'dog')"
   ]
  },
  {
   "cell_type": "code",
   "execution_count": 132,
   "metadata": {
    "collapsed": false
   },
   "outputs": [],
   "source": [
    "def is_hypernym_in_corpus(askedfor):\n",
    "    # put in a word, get a list of other words\n",
    "    word = Word(askedfor)\n",
    "    if word.synsets:\n",
    "        generalsenses = word.synsets[0]\n",
    "        next_level = [h.name().split(\".\")[0] for h in  generalsenses.hypernyms()]\n",
    "        if next_level[0] in corpus_sizes:\n",
    "            print('{} >>> {}'.format(askedfor, next_level[0]))            \n",
    "            print(get_desc_size_from_corpus(askedfor, next_level[0]))\n",
    "            print('\\n')\n",
    "            return(next_level)\n",
    "        else:\n",
    "            print('A {} is a \"{}\"'.format(askedfor, next_level[0]))\n",
    "            print('But hypernym \"{}\" is not in corpus'.format(next_level[0]))\n",
    "    else:\n",
    "        print('{} does not have synsets.'.format(askedfor))\n",
    "        return(False)"
   ]
  },
  {
   "cell_type": "code",
   "execution_count": 113,
   "metadata": {
    "collapsed": false
   },
   "outputs": [
    {
     "name": "stdout",
     "output_type": "stream",
     "text": [
      "bug has hypernym but not in corpus: insect\n",
      "fox >>> canine\n",
      "A fox is about the size of a hand, a fist, a baseball ~ 150mm.\n",
      "None\n",
      "\n",
      "\n",
      "salad >>> dish\n",
      "A salad is about the size of a hand, a fist, a baseball ~ 150mm.\n",
      "None\n",
      "\n",
      "\n",
      "chair >>> seat\n",
      "A chair is about the size of a full arm length ~ 1m.\n",
      "None\n",
      "\n",
      "\n",
      "table has hypernym but not in corpus: array\n",
      "nintendo does not have synsets.\n",
      "trash_can has hypernym but not in corpus: bin\n"
     ]
    }
   ],
   "source": [
    "for t in test_words_2:\n",
    "    is_hypernym_in_corpus(t)"
   ]
  },
  {
   "cell_type": "code",
   "execution_count": 133,
   "metadata": {
    "collapsed": false
   },
   "outputs": [
    {
     "name": "stdout",
     "output_type": "stream",
     "text": [
      "A flamingo is a \"wading_bird\"\n",
      "But hypernym \"wading_bird\" is not in corpus\n"
     ]
    }
   ],
   "source": [
    "is_hypernym_in_corpus(\"flamingo\")"
   ]
  },
  {
   "cell_type": "code",
   "execution_count": 134,
   "metadata": {
    "collapsed": false
   },
   "outputs": [
    {
     "name": "stdout",
     "output_type": "stream",
     "text": [
      "A scottish_terrier is a \"terrier\"\n",
      "But hypernym \"terrier\" is not in corpus\n"
     ]
    }
   ],
   "source": [
    "is_hypernym_in_corpus(\"scottish_terrier\")"
   ]
  },
  {
   "cell_type": "code",
   "execution_count": 141,
   "metadata": {
    "collapsed": false
   },
   "outputs": [
    {
     "name": "stdout",
     "output_type": "stream",
     "text": [
      "digital_computer >>> computer\n",
      "A digital_computer is about the size of a hand, a fist, a baseball ~ 150mm.\n",
      "None\n",
      "\n",
      "\n"
     ]
    },
    {
     "data": {
      "text/plain": [
       "[u'computer']"
      ]
     },
     "execution_count": 141,
     "metadata": {},
     "output_type": "execute_result"
    }
   ],
   "source": [
    "is_hypernym_in_corpus(\"digital_computer\")"
   ]
  },
  {
   "cell_type": "code",
   "execution_count": 144,
   "metadata": {
    "collapsed": false
   },
   "outputs": [
    {
     "name": "stdout",
     "output_type": "stream",
     "text": [
      "edible_fruit >>> fruit\n",
      "A edible_fruit is about the size of a loaf of bread or a cat ~ 300mm.\n",
      "None\n",
      "\n",
      "\n"
     ]
    },
    {
     "data": {
      "text/plain": [
       "[u'fruit', u'produce']"
      ]
     },
     "execution_count": 144,
     "metadata": {},
     "output_type": "execute_result"
    }
   ],
   "source": [
    "is_hypernym_in_corpus(\"edible_fruit\")"
   ]
  },
  {
   "cell_type": "code",
   "execution_count": 150,
   "metadata": {
    "collapsed": true
   },
   "outputs": [],
   "source": [
    "def recurse_is_hypernym_in_corpus(askedfor):\n",
    "    # put in a word, get a list of other words\n",
    "    counter = 0\n",
    "    firstquery = askedfor\n",
    "    word = Word(askedfor)\n",
    "    if word.synsets:\n",
    "        generalsenses = word.synsets[0]\n",
    "        next_level = [h.name().split(\".\")[0] for h in  generalsenses.hypernyms()]\n",
    "        if next_level[0] in corpus_sizes:\n",
    "            print('{} >>> {}'.format(firstquery, next_level[0]))            \n",
    "            print(get_desc_size_from_corpus(askedfor, next_level[0]))\n",
    "            print('\\n')\n",
    "            return(next_level)\n",
    "        elif counter < 5:\n",
    "            recurse_is_hypernym_in_corpus(next_level[0])\n",
    "            counter += 1\n",
    "            return(next_level[0])\n",
    "        else:\n",
    "            print('A {} is a \"{}\"'.format(askedfor, next_level[0]))\n",
    "            print('But hypernym \"{}\" is not in corpus'.format(next_level[0]))\n",
    "            return(False)\n",
    "    else:\n",
    "        print('{} does not have synsets.'.format(askedfor))\n",
    "        return(False)"
   ]
  },
  {
   "cell_type": "code",
   "execution_count": 152,
   "metadata": {
    "collapsed": false
   },
   "outputs": [
    {
     "name": "stdout",
     "output_type": "stream",
     "text": [
      "hunting_dog >>> dog\n",
      "A hunting_dog is about the size of a loaf of bread or a cat ~ 300mm.\n",
      "None\n",
      "\n",
      "\n"
     ]
    },
    {
     "data": {
      "text/plain": [
       "u'terrier'"
      ]
     },
     "execution_count": 152,
     "metadata": {},
     "output_type": "execute_result"
    }
   ],
   "source": [
    "recurse_is_hypernym_in_corpus(\"scottish_terrier\")"
   ]
  },
  {
   "cell_type": "code",
   "execution_count": null,
   "metadata": {
    "collapsed": true
   },
   "outputs": [],
   "source": [
    "# def opt_fun(x1, x2, *positional_parameters, **keyword_parameters):\n",
    "# ...     if ('optional' in keyword_parameters):\n",
    "# ...         print 'optional parameter found, it is ', keyword_parameters['optional']\n",
    "# ...     else:\n",
    "# ...         print 'no optional parameter, sorry'"
   ]
  }
 ],
 "metadata": {
  "anaconda-cloud": {},
  "kernelspec": {
   "display_name": "Python [Root]",
   "language": "python",
   "name": "Python [Root]"
  },
  "language_info": {
   "codemirror_mode": {
    "name": "ipython",
    "version": 2
   },
   "file_extension": ".py",
   "mimetype": "text/x-python",
   "name": "python",
   "nbconvert_exporter": "python",
   "pygments_lexer": "ipython2",
   "version": "2.7.12"
  }
 },
 "nbformat": 4,
 "nbformat_minor": 0
}
