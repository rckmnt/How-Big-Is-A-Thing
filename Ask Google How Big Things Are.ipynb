{
 "cells": [
  {
   "cell_type": "code",
   "execution_count": 2,
   "metadata": {
    "collapsed": true
   },
   "outputs": [],
   "source": [
    "from google import google\n",
    "\n",
    "objs = [\"Bike\", \"Airplane\", \"Car\", \"Alarm Clock\", \"Albatross\"]"
   ]
  },
  {
   "cell_type": "code",
   "execution_count": 3,
   "metadata": {
    "collapsed": false
   },
   "outputs": [],
   "source": [
    "import csv\n",
    "\n",
    "fileout = file('object_sizes_google_results_R.csv', 'w')\n",
    "csv_writer = csv.writer(fileout)"
   ]
  },
  {
   "cell_type": "markdown",
   "metadata": {},
   "source": [
    "Below is a test to just get it going on a small set. Writes to fileout from above."
   ]
  },
  {
   "cell_type": "code",
   "execution_count": 43,
   "metadata": {
    "collapsed": false
   },
   "outputs": [],
   "source": [
    "for obj in objs:\n",
    "    search_results = google.search(\"How big is a \" + obj + \"?\", 1)\n",
    "    obj_row = []\n",
    "    obj_row.append(obj)\n",
    "    for i, result in enumerate(search_results):\n",
    "        if i < 3:\n",
    "#             print('\\n')\n",
    "#             print(obj.capitalize() + ' ' + str(result.index + 1) + ' ---------')\n",
    "#             print(result.description)\n",
    "            obj_row.append(result.description.encode('utf-8').strip())\n",
    "#     print str(obj_row)[0:100])\n",
    "    csv_writer.writerow(obj_row)"
   ]
  },
  {
   "cell_type": "code",
   "execution_count": null,
   "metadata": {
    "collapsed": true
   },
   "outputs": [],
   "source": [
    "big_fileout = file('object_sizes_google_results_R.csv', 'w')\n",
    "csv_writer = csv.writer(big_fileout)"
   ]
  },
  {
   "cell_type": "markdown",
   "metadata": {},
   "source": [
    "This is a new CSV out for the \"real\" full dataset query.\n"
   ]
  },
  {
   "cell_type": "code",
   "execution_count": 35,
   "metadata": {
    "collapsed": false
   },
   "outputs": [],
   "source": [
    "full_objs = 'cleaned_basic_objects.txt'\n",
    "with open(full_objs, 'rb') as f:\n",
    "    things = []\n",
    "    reader = csv.reader(f)\n",
    "    for i, row in enumerate(reader):\n",
    "        if row[0:2] != '//':\n",
    "            things.append(row)\n",
    "            "
   ]
  },
  {
   "cell_type": "code",
   "execution_count": 7,
   "metadata": {
    "collapsed": false
   },
   "outputs": [
    {
     "name": "stdout",
     "output_type": "stream",
     "text": [
      "390\n",
      "['Rabbit', 'Raccoon', 'Radiator', 'Radio', 'Radio Cassette Player', 'Radish', 'Rags', 'Rail', 'Rainbow Trout', 'Raincoat']\n"
     ]
    }
   ],
   "source": [
    "print(len(things))\n",
    "things = [t[0] for t in things]\n",
    "print(things[0:10])\n"
   ]
  },
  {
   "cell_type": "code",
   "execution_count": 44,
   "metadata": {
    "collapsed": true
   },
   "outputs": [
    {
     "name": "stdout",
     "output_type": "stream",
     "text": [
      "Error accessing: http://www.google.com/search?q=How+big+is+a+Room%3F&start=0&num=10&nl=en\n",
      "Error accessing: http://www.google.com/search?q=How+big+is+a+Rooster%3F&start=0&num=10&nl=en\n",
      "Error accessing: http://www.google.com/search?q=How+big+is+a+Root%3F&start=0&num=10&nl=en\n",
      "Error accessing: http://www.google.com/search?q=How+big+is+a+Roundworm%3F&start=0&num=10&nl=en\n",
      "Error accessing: http://www.google.com/search?q=How+big+is+a+Rubber+Band%3F&start=0&num=10&nl=en\n",
      "Error accessing: http://www.google.com/search?q=How+big+is+a+Rubber+Duck%3F&start=0&num=10&nl=en\n",
      "Error accessing: http://www.google.com/search?q=How+big+is+a+Rug%3F&start=0&num=10&nl=en\n",
      "Error accessing: http://www.google.com/search?q=How+big+is+a+Rugs%3F&start=0&num=10&nl=en\n",
      "Error accessing: http://www.google.com/search?q=How+big+is+a+Run%3F&start=0&num=10&nl=en\n",
      "Error accessing: http://www.google.com/search?q=How+big+is+a+Runner%3F&start=0&num=10&nl=en\n",
      "Error accessing: http://www.google.com/search?q=How+big+is+a+Rusty+Nail%3F&start=0&num=10&nl=en\n",
      "Error accessing: http://www.google.com/search?q=How+big+is+a+Saber-toothed+Cat%3F&start=0&num=10&nl=en\n",
      "Error accessing: http://www.google.com/search?q=How+big+is+a+Sail%3F&start=0&num=10&nl=en\n",
      "Error accessing: http://www.google.com/search?q=How+big+is+a+Sailboat%3F&start=0&num=10&nl=en\n",
      "Error accessing: http://www.google.com/search?q=How+big+is+a+Sailfish%3F&start=0&num=10&nl=en\n",
      "Error accessing: http://www.google.com/search?q=How+big+is+a+Salad%3F&start=0&num=10&nl=en\n",
      "Error accessing: http://www.google.com/search?q=How+big+is+a+Salamander%3F&start=0&num=10&nl=en\n",
      "Error accessing: http://www.google.com/search?q=How+big+is+a+Salmon%3F&start=0&num=10&nl=en\n",
      "Error accessing: http://www.google.com/search?q=How+big+is+a+Salt%3F&start=0&num=10&nl=en\n",
      "Error accessing: http://www.google.com/search?q=How+big+is+a+Sand+Paper%3F&start=0&num=10&nl=en\n",
      "Error accessing: http://www.google.com/search?q=How+big+is+a+Sandal%3F&start=0&num=10&nl=en\n",
      "Error accessing: http://www.google.com/search?q=How+big+is+a+Saucer%3F&start=0&num=10&nl=en\n",
      "Error accessing: http://www.google.com/search?q=How+big+is+a+Save%3F&start=0&num=10&nl=en\n",
      "Error accessing: http://www.google.com/search?q=How+big+is+a+Savings%3F&start=0&num=10&nl=en\n",
      "Error accessing: http://www.google.com/search?q=How+big+is+a+Saw%3F&start=0&num=10&nl=en\n",
      "Error accessing: http://www.google.com/search?q=How+big+is+a+Sawfish%3F&start=0&num=10&nl=en\n",
      "Error accessing: http://www.google.com/search?q=How+big+is+a+Scale+Insect%3F&start=0&num=10&nl=en\n",
      "Error accessing: http://www.google.com/search?q=How+big+is+a+Scallop%3F&start=0&num=10&nl=en\n",
      "Error accessing: http://www.google.com/search?q=How+big+is+a+Scarf%3F&start=0&num=10&nl=en\n",
      "Error accessing: http://www.google.com/search?q=How+big+is+a+School%3F&start=0&num=10&nl=en\n",
      "Error accessing: http://www.google.com/search?q=How+big+is+a+Scissors%3F&start=0&num=10&nl=en\n",
      "Error accessing: http://www.google.com/search?q=How+big+is+a+Scoreboard%3F&start=0&num=10&nl=en\n",
      "Error accessing: http://www.google.com/search?q=How+big+is+a+Scorpion%3F&start=0&num=10&nl=en\n",
      "Error accessing: http://www.google.com/search?q=How+big+is+a+Scotch+Tape%3F&start=0&num=10&nl=en\n",
      "Error accessing: http://www.google.com/search?q=How+big+is+a+Scramble%3F&start=0&num=10&nl=en\n",
      "Error accessing: http://www.google.com/search?q=How+big+is+a+Screw%3F&start=0&num=10&nl=en\n",
      "Error accessing: http://www.google.com/search?q=How+big+is+a+Screw+Driver%3F&start=0&num=10&nl=en\n",
      "Error accessing: http://www.google.com/search?q=How+big+is+a+Screwdriver%3F&start=0&num=10&nl=en\n",
      "Error accessing: http://www.google.com/search?q=How+big+is+a+Sea%3F&start=0&num=10&nl=en\n",
      "Error accessing: http://www.google.com/search?q=How+big+is+a+Sea+Lion%3F&start=0&num=10&nl=en\n",
      "Error accessing: http://www.google.com/search?q=How+big+is+a+Sea+Slug%3F&start=0&num=10&nl=en\n",
      "Error accessing: http://www.google.com/search?q=How+big+is+a+Sea+Snail%3F&start=0&num=10&nl=en\n",
      "Error accessing: http://www.google.com/search?q=How+big+is+a+Seahorse%3F&start=0&num=10&nl=en\n",
      "Error accessing: http://www.google.com/search?q=How+big+is+a+Seal%3F&start=0&num=10&nl=en\n",
      "Error accessing: http://www.google.com/search?q=How+big+is+a+Seat%3F&start=0&num=10&nl=en\n",
      "Error accessing: http://www.google.com/search?q=How+big+is+a+Seat+Belt%3F&start=0&num=10&nl=en\n",
      "Error accessing: http://www.google.com/search?q=How+big+is+a+Second+Baseman%3F&start=0&num=10&nl=en\n",
      "Error accessing: http://www.google.com/search?q=How+big+is+a+Seed%3F&start=0&num=10&nl=en\n",
      "Error accessing: http://www.google.com/search?q=How+big+is+a+Serval%3F&start=0&num=10&nl=en\n",
      "Error accessing: http://www.google.com/search?q=How+big+is+a+Settee%3F&start=0&num=10&nl=en\n",
      "Error accessing: http://www.google.com/search?q=How+big+is+a+Shades%3F&start=0&num=10&nl=en\n",
      "Error accessing: http://www.google.com/search?q=How+big+is+a+Shampoo%3F&start=0&num=10&nl=en\n",
      "Error accessing: http://www.google.com/search?q=How+big+is+a+Shark%3F&start=0&num=10&nl=en\n",
      "Error accessing: http://www.google.com/search?q=How+big+is+a+Sharpie%3F&start=0&num=10&nl=en\n",
      "Error accessing: http://www.google.com/search?q=How+big+is+a+Shawl%3F&start=0&num=10&nl=en\n",
      "Error accessing: http://www.google.com/search?q=How+big+is+a+Sheep%3F&start=0&num=10&nl=en\n",
      "Error accessing: http://www.google.com/search?q=How+big+is+a+Sheets%3F&start=0&num=10&nl=en\n",
      "Error accessing: http://www.google.com/search?q=How+big+is+a+Shelf%3F&start=0&num=10&nl=en\n",
      "Error accessing: http://www.google.com/search?q=How+big+is+a+Ship%3F&start=0&num=10&nl=en\n",
      "Error accessing: http://www.google.com/search?q=How+big+is+a+Shirt%3F&start=0&num=10&nl=en\n",
      "Error accessing: http://www.google.com/search?q=How+big+is+a+Shirts%3F&start=0&num=10&nl=en\n",
      "Error accessing: http://www.google.com/search?q=How+big+is+a+Shoe%3F&start=0&num=10&nl=en\n",
      "Error accessing: http://www.google.com/search?q=How+big+is+a+Shoe+Lace%3F&start=0&num=10&nl=en\n",
      "Error accessing: http://www.google.com/search?q=How+big+is+a+Shoes%3F&start=0&num=10&nl=en\n",
      "Error accessing: http://www.google.com/search?q=How+big+is+a+Short+Stop%3F&start=0&num=10&nl=en\n",
      "Error accessing: http://www.google.com/search?q=How+big+is+a+Shoulders%3F&start=0&num=10&nl=en\n",
      "Error accessing: http://www.google.com/search?q=How+big+is+a+Shovel%3F&start=0&num=10&nl=en\n",
      "Error accessing: http://www.google.com/search?q=How+big+is+a+Shrew%3F&start=0&num=10&nl=en\n",
      "Error accessing: http://www.google.com/search?q=How+big+is+a+Shrimp%3F&start=0&num=10&nl=en\n",
      "Error accessing: http://www.google.com/search?q=How+big+is+a+Sidewalk%3F&start=0&num=10&nl=en\n",
      "Error accessing: http://www.google.com/search?q=How+big+is+a+Silkworm%3F&start=0&num=10&nl=en\n",
      "Error accessing: http://www.google.com/search?q=How+big+is+a+Silverfish%3F&start=0&num=10&nl=en\n",
      "Error accessing: http://www.google.com/search?q=How+big+is+a+Simmer%3F&start=0&num=10&nl=en\n",
      "Error accessing: http://www.google.com/search?q=How+big+is+a+Sink%3F&start=0&num=10&nl=en\n",
      "Error accessing: http://www.google.com/search?q=How+big+is+a+Sister%3F&start=0&num=10&nl=en\n",
      "Error accessing: http://www.google.com/search?q=How+big+is+a+Skate%3F&start=0&num=10&nl=en\n",
      "Error accessing: http://www.google.com/search?q=How+big+is+a+Sketch+Pad%3F&start=0&num=10&nl=en\n",
      "Error accessing: http://www.google.com/search?q=How+big+is+a+Skin%3F&start=0&num=10&nl=en\n",
      "Error accessing: http://www.google.com/search?q=How+big+is+a+Skink%3F&start=0&num=10&nl=en\n",
      "Error accessing: http://www.google.com/search?q=How+big+is+a+Skirt%3F&start=0&num=10&nl=en\n",
      "Error accessing: http://www.google.com/search?q=How+big+is+a+Skunk%3F&start=0&num=10&nl=en\n",
      "Error accessing: http://www.google.com/search?q=How+big+is+a+Slacks%3F&start=0&num=10&nl=en\n",
      "Error accessing: http://www.google.com/search?q=How+big+is+a+Slide%3F&start=0&num=10&nl=en\n",
      "Error accessing: http://www.google.com/search?q=How+big+is+a+Slipper%3F&start=0&num=10&nl=en\n",
      "Error accessing: http://www.google.com/search?q=How+big+is+a+Slippers%3F&start=0&num=10&nl=en\n",
      "Error accessing: http://www.google.com/search?q=How+big+is+a+Sloth%3F&start=0&num=10&nl=en\n",
      "Error accessing: http://www.google.com/search?q=How+big+is+a+Slug%3F&start=0&num=10&nl=en\n",
      "Error accessing: http://www.google.com/search?q=How+big+is+a+Smelt%3F&start=0&num=10&nl=en\n",
      "Error accessing: http://www.google.com/search?q=How+big+is+a+Smoke+Detector%3F&start=0&num=10&nl=en\n",
      "Error accessing: http://www.google.com/search?q=How+big+is+a+Snail%3F&start=0&num=10&nl=en\n",
      "Error accessing: http://www.google.com/search?q=How+big+is+a+Snake%3F&start=0&num=10&nl=en\n",
      "Error accessing: http://www.google.com/search?q=How+big+is+a+Sneakers%3F&start=0&num=10&nl=en\n",
      "Error accessing: http://www.google.com/search?q=How+big+is+a+Snipe%3F&start=0&num=10&nl=en\n",
      "Error accessing: http://www.google.com/search?q=How+big+is+a+Snow+Leopard%3F&start=0&num=10&nl=en\n",
      "Error accessing: http://www.google.com/search?q=How+big+is+a+Soap%3F&start=0&num=10&nl=en\n",
      "Error accessing: http://www.google.com/search?q=How+big+is+a+Sock%3F&start=0&num=10&nl=en\n",
      "Error accessing: http://www.google.com/search?q=How+big+is+a+Sockeye+Salmon%3F&start=0&num=10&nl=en\n",
      "Error accessing: http://www.google.com/search?q=How+big+is+a+Socks%3F&start=0&num=10&nl=en\n",
      "Error accessing: http://www.google.com/search?q=How+big+is+a+Soda+Can%3F&start=0&num=10&nl=en\n",
      "Error accessing: http://www.google.com/search?q=How+big+is+a+Sofa%3F&start=0&num=10&nl=en\n",
      "Error accessing: http://www.google.com/search?q=How+big+is+a+Sole%3F&start=0&num=10&nl=en\n",
      "Error accessing: http://www.google.com/search?q=How+big+is+a+Son%3F&start=0&num=10&nl=en\n",
      "Error accessing: http://www.google.com/search?q=How+big+is+a+Soy+Sauce+Packet%3F&start=0&num=10&nl=en\n",
      "Error accessing: http://www.google.com/search?q=How+big+is+a+Spade%3F&start=0&num=10&nl=en\n",
      "Error accessing: http://www.google.com/search?q=How+big+is+a+Sparrow%3F&start=0&num=10&nl=en\n",
      "Error accessing: http://www.google.com/search?q=How+big+is+a+Spatula%3F&start=0&num=10&nl=en\n",
      "Error accessing: http://www.google.com/search?q=How+big+is+a+Speakers%3F&start=0&num=10&nl=en\n",
      "Error accessing: http://www.google.com/search?q=How+big+is+a+Speedometer%3F&start=0&num=10&nl=en\n",
      "Error accessing: http://www.google.com/search?q=How+big+is+a+Sperm+Whale%3F&start=0&num=10&nl=en\n",
      "Error accessing: http://www.google.com/search?q=How+big+is+a+Spider%3F&start=0&num=10&nl=en\n",
      "Error accessing: http://www.google.com/search?q=How+big+is+a+Spider+Monkey%3F&start=0&num=10&nl=en\n",
      "Error accessing: http://www.google.com/search?q=How+big+is+a+Spinach%3F&start=0&num=10&nl=en\n",
      "Error accessing: http://www.google.com/search?q=How+big+is+a+Spinosaurus%3F&start=0&num=10&nl=en\n",
      "Error accessing: http://www.google.com/search?q=How+big+is+a+Sponge%3F&start=0&num=10&nl=en\n",
      "Error accessing: http://www.google.com/search?q=How+big+is+a+Spoon%3F&start=0&num=10&nl=en\n",
      "Error accessing: http://www.google.com/search?q=How+big+is+a+Spoonbill%3F&start=0&num=10&nl=en\n",
      "Error accessing: http://www.google.com/search?q=How+big+is+a+Spoons%3F&start=0&num=10&nl=en\n",
      "Error accessing: http://www.google.com/search?q=How+big+is+a+Spring%3F&start=0&num=10&nl=en\n",
      "Error accessing: http://www.google.com/search?q=How+big+is+a+Square%3F&start=0&num=10&nl=en\n",
      "Error accessing: http://www.google.com/search?q=How+big+is+a+Squid%3F&start=0&num=10&nl=en\n",
      "Error accessing: http://www.google.com/search?q=How+big+is+a+Squirrel%3F&start=0&num=10&nl=en\n",
      "Error accessing: http://www.google.com/search?q=How+big+is+a+Stairs%3F&start=0&num=10&nl=en\n",
      "Error accessing: http://www.google.com/search?q=How+big+is+a+Stamp%3F&start=0&num=10&nl=en\n",
      "Error accessing: http://www.google.com/search?q=How+big+is+a+Star%3F&start=0&num=10&nl=en\n",
      "Error accessing: http://www.google.com/search?q=How+big+is+a+Star-nosed+Mole%3F&start=0&num=10&nl=en\n",
      "Error accessing: http://www.google.com/search?q=How+big+is+a+Starfish%3F&start=0&num=10&nl=en\n",
      "Error accessing: http://www.google.com/search?q=How+big+is+a+Station%3F&start=0&num=10&nl=en\n",
      "Error accessing: http://www.google.com/search?q=How+big+is+a+Steal%3F&start=0&num=10&nl=en\n",
      "Error accessing: http://www.google.com/search?q=How+big+is+a+Steam%3F&start=0&num=10&nl=en\n",
      "Error accessing: http://www.google.com/search?q=How+big+is+a+Stegosaurus%3F&start=0&num=10&nl=en\n",
      "Error accessing: http://www.google.com/search?q=How+big+is+a+Stem%3F&start=0&num=10&nl=en\n",
      "Error accessing: http://www.google.com/search?q=How+big+is+a+Stepdaughter%3F&start=0&num=10&nl=en\n",
      "Error accessing: http://www.google.com/search?q=How+big+is+a+Stepmother%3F&start=0&num=10&nl=en\n",
      "Error accessing: http://www.google.com/search?q=How+big+is+a+Stepson%3F&start=0&num=10&nl=en\n",
      "Error accessing: http://www.google.com/search?q=How+big+is+a+Stereo+System%3F&start=0&num=10&nl=en\n",
      "Error accessing: http://www.google.com/search?q=How+big+is+a+Stick%3F&start=0&num=10&nl=en\n",
      "Error accessing: http://www.google.com/search?q=How+big+is+a+Sticky+Note%3F&start=0&num=10&nl=en\n",
      "Error accessing: http://www.google.com/search?q=How+big+is+a+Stingray%3F&start=0&num=10&nl=en\n",
      "Error accessing: http://www.google.com/search?q=How+big+is+a+Stoat%3F&start=0&num=10&nl=en\n",
      "Error accessing: http://www.google.com/search?q=How+big+is+a+Stocking%3F&start=0&num=10&nl=en\n",
      "Error accessing: http://www.google.com/search?q=How+big+is+a+Stockings%3F&start=0&num=10&nl=en\n",
      "Error accessing: http://www.google.com/search?q=How+big+is+a+Stomach%3F&start=0&num=10&nl=en\n",
      "Error accessing: http://www.google.com/search?q=How+big+is+a+Stop+Sign%3F&start=0&num=10&nl=en\n",
      "Error accessing: http://www.google.com/search?q=How+big+is+a+Store%3F&start=0&num=10&nl=en\n",
      "Error accessing: http://www.google.com/search?q=How+big+is+a+Stork%3F&start=0&num=10&nl=en\n",
      "Error accessing: http://www.google.com/search?q=How+big+is+a+Strainer%3F&start=0&num=10&nl=en\n",
      "Error accessing: http://www.google.com/search?q=How+big+is+a+Strawberry%3F&start=0&num=10&nl=en\n",
      "Error accessing: http://www.google.com/search?q=How+big+is+a+Stream%3F&start=0&num=10&nl=en\n",
      "Error accessing: http://www.google.com/search?q=How+big+is+a+Street%3F&start=0&num=10&nl=en\n",
      "Error accessing: http://www.google.com/search?q=How+big+is+a+Street+Lights%3F&start=0&num=10&nl=en\n",
      "Error accessing: http://www.google.com/search?q=How+big+is+a+Strike%3F&start=0&num=10&nl=en\n",
      "Error accessing: http://www.google.com/search?q=How+big+is+a+Strike+Out%3F&start=0&num=10&nl=en\n",
      "Error accessing: http://www.google.com/search?q=How+big+is+a+Struthiomimus%3F&start=0&num=10&nl=en\n",
      "Error accessing: http://www.google.com/search?q=How+big+is+a+Sturgeon%3F&start=0&num=10&nl=en\n",
      "Error accessing: http://www.google.com/search?q=How+big+is+a+Styracosaurus%3F&start=0&num=10&nl=en\n",
      "Error accessing: http://www.google.com/search?q=How+big+is+a+Subway%3F&start=0&num=10&nl=en\n",
      "Error accessing: http://www.google.com/search?q=How+big+is+a+Suchomimus%3F&start=0&num=10&nl=en\n",
      "Error accessing: http://www.google.com/search?q=How+big+is+a+Sugar%3F&start=0&num=10&nl=en\n",
      "Error accessing: http://www.google.com/search?q=How+big+is+a+Sugar+Glider%3F&start=0&num=10&nl=en\n",
      "Error accessing: http://www.google.com/search?q=How+big+is+a+Suit%3F&start=0&num=10&nl=en\n",
      "Error accessing: http://www.google.com/search?q=How+big+is+a+Suitcases%3F&start=0&num=10&nl=en\n",
      "Error accessing: http://www.google.com/search?q=How+big+is+a+Sumatran+Rhinoceros%3F&start=0&num=10&nl=en\n",
      "Error accessing: http://www.google.com/search?q=How+big+is+a+Sun%3F&start=0&num=10&nl=en\n",
      "Error accessing: http://www.google.com/search?q=How+big+is+a+Sun+Glasses%3F&start=0&num=10&nl=en\n",
      "Error accessing: http://www.google.com/search?q=How+big+is+a+Supermarket%3F&start=0&num=10&nl=en\n",
      "Error accessing: http://www.google.com/search?q=How+big+is+a+Supplies%3F&start=0&num=10&nl=en\n",
      "Error accessing: http://www.google.com/search?q=How+big+is+a+Swallow%3F&start=0&num=10&nl=en\n",
      "Error accessing: http://www.google.com/search?q=How+big+is+a+Swan%3F&start=0&num=10&nl=en\n",
      "Error accessing: http://www.google.com/search?q=How+big+is+a+Sweater%3F&start=0&num=10&nl=en\n",
      "Error accessing: http://www.google.com/search?q=How+big+is+a+Sweatshirt%3F&start=0&num=10&nl=en\n"
     ]
    },
    {
     "ename": "KeyboardInterrupt",
     "evalue": "",
     "output_type": "error",
     "traceback": [
      "\u001b[0;31m---------------------------------------------------------------------------\u001b[0m",
      "\u001b[0;31mKeyboardInterrupt\u001b[0m                         Traceback (most recent call last)",
      "\u001b[0;32m<ipython-input-44-a266243d1803>\u001b[0m in \u001b[0;36m<module>\u001b[0;34m()\u001b[0m\n\u001b[1;32m      1\u001b[0m \u001b[1;32mfor\u001b[0m \u001b[0mthing\u001b[0m \u001b[1;32min\u001b[0m \u001b[0mthings\u001b[0m\u001b[1;33m:\u001b[0m\u001b[1;33m\u001b[0m\u001b[0m\n\u001b[0;32m----> 2\u001b[0;31m     \u001b[0msearch_results\u001b[0m \u001b[1;33m=\u001b[0m \u001b[0mgoogle\u001b[0m\u001b[1;33m.\u001b[0m\u001b[0msearch\u001b[0m\u001b[1;33m(\u001b[0m\u001b[1;34m\"How big is a \"\u001b[0m \u001b[1;33m+\u001b[0m \u001b[0mthing\u001b[0m \u001b[1;33m+\u001b[0m \u001b[1;34m\"?\"\u001b[0m\u001b[1;33m,\u001b[0m \u001b[1;36m1\u001b[0m\u001b[1;33m)\u001b[0m\u001b[1;33m\u001b[0m\u001b[0m\n\u001b[0m\u001b[1;32m      3\u001b[0m     \u001b[0mthing_row\u001b[0m \u001b[1;33m=\u001b[0m \u001b[1;33m[\u001b[0m\u001b[1;33m]\u001b[0m\u001b[1;33m\u001b[0m\u001b[0m\n\u001b[1;32m      4\u001b[0m     \u001b[0mthing_row\u001b[0m\u001b[1;33m.\u001b[0m\u001b[0mappend\u001b[0m\u001b[1;33m(\u001b[0m\u001b[0mthing\u001b[0m\u001b[1;33m)\u001b[0m\u001b[1;33m\u001b[0m\u001b[0m\n\u001b[1;32m      5\u001b[0m     \u001b[1;32mfor\u001b[0m \u001b[0mi\u001b[0m\u001b[1;33m,\u001b[0m \u001b[0mresult\u001b[0m \u001b[1;32min\u001b[0m \u001b[0menumerate\u001b[0m\u001b[1;33m(\u001b[0m\u001b[0msearch_results\u001b[0m\u001b[1;33m)\u001b[0m\u001b[1;33m:\u001b[0m\u001b[1;33m\u001b[0m\u001b[0m\n",
      "\u001b[0;32mC:\\Users\\Scott\\Anaconda2\\lib\\site-packages\\google\\modules\\standard_search.pyc\u001b[0m in \u001b[0;36msearch\u001b[0;34m(query, pages, lang, void)\u001b[0m\n\u001b[1;32m     59\u001b[0m     \u001b[1;32mfor\u001b[0m \u001b[0mi\u001b[0m \u001b[1;32min\u001b[0m \u001b[0mrange\u001b[0m\u001b[1;33m(\u001b[0m\u001b[0mpages\u001b[0m\u001b[1;33m)\u001b[0m\u001b[1;33m:\u001b[0m\u001b[1;33m\u001b[0m\u001b[0m\n\u001b[1;32m     60\u001b[0m         \u001b[0murl\u001b[0m \u001b[1;33m=\u001b[0m \u001b[0m_get_search_url\u001b[0m\u001b[1;33m(\u001b[0m\u001b[0mquery\u001b[0m\u001b[1;33m,\u001b[0m \u001b[0mi\u001b[0m\u001b[1;33m,\u001b[0m \u001b[0mlang\u001b[0m\u001b[1;33m=\u001b[0m\u001b[0mlang\u001b[0m\u001b[1;33m)\u001b[0m\u001b[1;33m\u001b[0m\u001b[0m\n\u001b[0;32m---> 61\u001b[0;31m         \u001b[0mhtml\u001b[0m \u001b[1;33m=\u001b[0m \u001b[0mget_html\u001b[0m\u001b[1;33m(\u001b[0m\u001b[0murl\u001b[0m\u001b[1;33m)\u001b[0m\u001b[1;33m\u001b[0m\u001b[0m\n\u001b[0m\u001b[1;32m     62\u001b[0m \u001b[1;33m\u001b[0m\u001b[0m\n\u001b[1;32m     63\u001b[0m         \u001b[1;32mif\u001b[0m \u001b[0mhtml\u001b[0m\u001b[1;33m:\u001b[0m\u001b[1;33m\u001b[0m\u001b[0m\n",
      "\u001b[0;32mC:\\Users\\Scott\\Anaconda2\\lib\\site-packages\\google\\modules\\utils.pyc\u001b[0m in \u001b[0;36mget_html\u001b[0;34m(url)\u001b[0m\n\u001b[1;32m     46\u001b[0m         \u001b[0mrequest\u001b[0m \u001b[1;33m=\u001b[0m \u001b[0murllib2\u001b[0m\u001b[1;33m.\u001b[0m\u001b[0mRequest\u001b[0m\u001b[1;33m(\u001b[0m\u001b[0murl\u001b[0m\u001b[1;33m)\u001b[0m\u001b[1;33m\u001b[0m\u001b[0m\n\u001b[1;32m     47\u001b[0m         \u001b[0mrequest\u001b[0m\u001b[1;33m.\u001b[0m\u001b[0madd_header\u001b[0m\u001b[1;33m(\u001b[0m\u001b[1;34m\"User-Agent\"\u001b[0m\u001b[1;33m,\u001b[0m \u001b[0mheader\u001b[0m\u001b[1;33m)\u001b[0m\u001b[1;33m\u001b[0m\u001b[0m\n\u001b[0;32m---> 48\u001b[0;31m         \u001b[0mhtml\u001b[0m \u001b[1;33m=\u001b[0m \u001b[0murllib2\u001b[0m\u001b[1;33m.\u001b[0m\u001b[0murlopen\u001b[0m\u001b[1;33m(\u001b[0m\u001b[0mrequest\u001b[0m\u001b[1;33m)\u001b[0m\u001b[1;33m.\u001b[0m\u001b[0mread\u001b[0m\u001b[1;33m(\u001b[0m\u001b[1;33m)\u001b[0m\u001b[1;33m\u001b[0m\u001b[0m\n\u001b[0m\u001b[1;32m     49\u001b[0m         \u001b[1;32mreturn\u001b[0m \u001b[0mhtml\u001b[0m\u001b[1;33m\u001b[0m\u001b[0m\n\u001b[1;32m     50\u001b[0m     \u001b[1;32mexcept\u001b[0m \u001b[0murllib2\u001b[0m\u001b[1;33m.\u001b[0m\u001b[0mHTTPError\u001b[0m \u001b[1;32mas\u001b[0m \u001b[0me\u001b[0m\u001b[1;33m:\u001b[0m\u001b[1;33m\u001b[0m\u001b[0m\n",
      "\u001b[0;32mC:\\Users\\Scott\\Anaconda2\\lib\\urllib2.pyc\u001b[0m in \u001b[0;36murlopen\u001b[0;34m(url, data, timeout, cafile, capath, cadefault, context)\u001b[0m\n\u001b[1;32m    152\u001b[0m     \u001b[1;32melse\u001b[0m\u001b[1;33m:\u001b[0m\u001b[1;33m\u001b[0m\u001b[0m\n\u001b[1;32m    153\u001b[0m         \u001b[0mopener\u001b[0m \u001b[1;33m=\u001b[0m \u001b[0m_opener\u001b[0m\u001b[1;33m\u001b[0m\u001b[0m\n\u001b[0;32m--> 154\u001b[0;31m     \u001b[1;32mreturn\u001b[0m \u001b[0mopener\u001b[0m\u001b[1;33m.\u001b[0m\u001b[0mopen\u001b[0m\u001b[1;33m(\u001b[0m\u001b[0murl\u001b[0m\u001b[1;33m,\u001b[0m \u001b[0mdata\u001b[0m\u001b[1;33m,\u001b[0m \u001b[0mtimeout\u001b[0m\u001b[1;33m)\u001b[0m\u001b[1;33m\u001b[0m\u001b[0m\n\u001b[0m\u001b[1;32m    155\u001b[0m \u001b[1;33m\u001b[0m\u001b[0m\n\u001b[1;32m    156\u001b[0m \u001b[1;32mdef\u001b[0m \u001b[0minstall_opener\u001b[0m\u001b[1;33m(\u001b[0m\u001b[0mopener\u001b[0m\u001b[1;33m)\u001b[0m\u001b[1;33m:\u001b[0m\u001b[1;33m\u001b[0m\u001b[0m\n",
      "\u001b[0;32mC:\\Users\\Scott\\Anaconda2\\lib\\urllib2.pyc\u001b[0m in \u001b[0;36mopen\u001b[0;34m(self, fullurl, data, timeout)\u001b[0m\n\u001b[1;32m    427\u001b[0m             \u001b[0mreq\u001b[0m \u001b[1;33m=\u001b[0m \u001b[0mmeth\u001b[0m\u001b[1;33m(\u001b[0m\u001b[0mreq\u001b[0m\u001b[1;33m)\u001b[0m\u001b[1;33m\u001b[0m\u001b[0m\n\u001b[1;32m    428\u001b[0m \u001b[1;33m\u001b[0m\u001b[0m\n\u001b[0;32m--> 429\u001b[0;31m         \u001b[0mresponse\u001b[0m \u001b[1;33m=\u001b[0m \u001b[0mself\u001b[0m\u001b[1;33m.\u001b[0m\u001b[0m_open\u001b[0m\u001b[1;33m(\u001b[0m\u001b[0mreq\u001b[0m\u001b[1;33m,\u001b[0m \u001b[0mdata\u001b[0m\u001b[1;33m)\u001b[0m\u001b[1;33m\u001b[0m\u001b[0m\n\u001b[0m\u001b[1;32m    430\u001b[0m \u001b[1;33m\u001b[0m\u001b[0m\n\u001b[1;32m    431\u001b[0m         \u001b[1;31m# post-process response\u001b[0m\u001b[1;33m\u001b[0m\u001b[1;33m\u001b[0m\u001b[0m\n",
      "\u001b[0;32mC:\\Users\\Scott\\Anaconda2\\lib\\urllib2.pyc\u001b[0m in \u001b[0;36m_open\u001b[0;34m(self, req, data)\u001b[0m\n\u001b[1;32m    445\u001b[0m         \u001b[0mprotocol\u001b[0m \u001b[1;33m=\u001b[0m \u001b[0mreq\u001b[0m\u001b[1;33m.\u001b[0m\u001b[0mget_type\u001b[0m\u001b[1;33m(\u001b[0m\u001b[1;33m)\u001b[0m\u001b[1;33m\u001b[0m\u001b[0m\n\u001b[1;32m    446\u001b[0m         result = self._call_chain(self.handle_open, protocol, protocol +\n\u001b[0;32m--> 447\u001b[0;31m                                   '_open', req)\n\u001b[0m\u001b[1;32m    448\u001b[0m         \u001b[1;32mif\u001b[0m \u001b[0mresult\u001b[0m\u001b[1;33m:\u001b[0m\u001b[1;33m\u001b[0m\u001b[0m\n\u001b[1;32m    449\u001b[0m             \u001b[1;32mreturn\u001b[0m \u001b[0mresult\u001b[0m\u001b[1;33m\u001b[0m\u001b[0m\n",
      "\u001b[0;32mC:\\Users\\Scott\\Anaconda2\\lib\\urllib2.pyc\u001b[0m in \u001b[0;36m_call_chain\u001b[0;34m(self, chain, kind, meth_name, *args)\u001b[0m\n\u001b[1;32m    405\u001b[0m             \u001b[0mfunc\u001b[0m \u001b[1;33m=\u001b[0m \u001b[0mgetattr\u001b[0m\u001b[1;33m(\u001b[0m\u001b[0mhandler\u001b[0m\u001b[1;33m,\u001b[0m \u001b[0mmeth_name\u001b[0m\u001b[1;33m)\u001b[0m\u001b[1;33m\u001b[0m\u001b[0m\n\u001b[1;32m    406\u001b[0m \u001b[1;33m\u001b[0m\u001b[0m\n\u001b[0;32m--> 407\u001b[0;31m             \u001b[0mresult\u001b[0m \u001b[1;33m=\u001b[0m \u001b[0mfunc\u001b[0m\u001b[1;33m(\u001b[0m\u001b[1;33m*\u001b[0m\u001b[0margs\u001b[0m\u001b[1;33m)\u001b[0m\u001b[1;33m\u001b[0m\u001b[0m\n\u001b[0m\u001b[1;32m    408\u001b[0m             \u001b[1;32mif\u001b[0m \u001b[0mresult\u001b[0m \u001b[1;32mis\u001b[0m \u001b[1;32mnot\u001b[0m \u001b[0mNone\u001b[0m\u001b[1;33m:\u001b[0m\u001b[1;33m\u001b[0m\u001b[0m\n\u001b[1;32m    409\u001b[0m                 \u001b[1;32mreturn\u001b[0m \u001b[0mresult\u001b[0m\u001b[1;33m\u001b[0m\u001b[0m\n",
      "\u001b[0;32mC:\\Users\\Scott\\Anaconda2\\lib\\urllib2.pyc\u001b[0m in \u001b[0;36mhttp_open\u001b[0;34m(self, req)\u001b[0m\n\u001b[1;32m   1226\u001b[0m \u001b[1;33m\u001b[0m\u001b[0m\n\u001b[1;32m   1227\u001b[0m     \u001b[1;32mdef\u001b[0m \u001b[0mhttp_open\u001b[0m\u001b[1;33m(\u001b[0m\u001b[0mself\u001b[0m\u001b[1;33m,\u001b[0m \u001b[0mreq\u001b[0m\u001b[1;33m)\u001b[0m\u001b[1;33m:\u001b[0m\u001b[1;33m\u001b[0m\u001b[0m\n\u001b[0;32m-> 1228\u001b[0;31m         \u001b[1;32mreturn\u001b[0m \u001b[0mself\u001b[0m\u001b[1;33m.\u001b[0m\u001b[0mdo_open\u001b[0m\u001b[1;33m(\u001b[0m\u001b[0mhttplib\u001b[0m\u001b[1;33m.\u001b[0m\u001b[0mHTTPConnection\u001b[0m\u001b[1;33m,\u001b[0m \u001b[0mreq\u001b[0m\u001b[1;33m)\u001b[0m\u001b[1;33m\u001b[0m\u001b[0m\n\u001b[0m\u001b[1;32m   1229\u001b[0m \u001b[1;33m\u001b[0m\u001b[0m\n\u001b[1;32m   1230\u001b[0m     \u001b[0mhttp_request\u001b[0m \u001b[1;33m=\u001b[0m \u001b[0mAbstractHTTPHandler\u001b[0m\u001b[1;33m.\u001b[0m\u001b[0mdo_request_\u001b[0m\u001b[1;33m\u001b[0m\u001b[0m\n",
      "\u001b[0;32mC:\\Users\\Scott\\Anaconda2\\lib\\urllib2.pyc\u001b[0m in \u001b[0;36mdo_open\u001b[0;34m(self, http_class, req, **http_conn_args)\u001b[0m\n\u001b[1;32m   1199\u001b[0m         \u001b[1;32melse\u001b[0m\u001b[1;33m:\u001b[0m\u001b[1;33m\u001b[0m\u001b[0m\n\u001b[1;32m   1200\u001b[0m             \u001b[1;32mtry\u001b[0m\u001b[1;33m:\u001b[0m\u001b[1;33m\u001b[0m\u001b[0m\n\u001b[0;32m-> 1201\u001b[0;31m                 \u001b[0mr\u001b[0m \u001b[1;33m=\u001b[0m \u001b[0mh\u001b[0m\u001b[1;33m.\u001b[0m\u001b[0mgetresponse\u001b[0m\u001b[1;33m(\u001b[0m\u001b[0mbuffering\u001b[0m\u001b[1;33m=\u001b[0m\u001b[0mTrue\u001b[0m\u001b[1;33m)\u001b[0m\u001b[1;33m\u001b[0m\u001b[0m\n\u001b[0m\u001b[1;32m   1202\u001b[0m             \u001b[1;32mexcept\u001b[0m \u001b[0mTypeError\u001b[0m\u001b[1;33m:\u001b[0m \u001b[1;31m# buffering kw not supported\u001b[0m\u001b[1;33m\u001b[0m\u001b[0m\n\u001b[1;32m   1203\u001b[0m                 \u001b[0mr\u001b[0m \u001b[1;33m=\u001b[0m \u001b[0mh\u001b[0m\u001b[1;33m.\u001b[0m\u001b[0mgetresponse\u001b[0m\u001b[1;33m(\u001b[0m\u001b[1;33m)\u001b[0m\u001b[1;33m\u001b[0m\u001b[0m\n",
      "\u001b[0;32mC:\\Users\\Scott\\Anaconda2\\lib\\httplib.pyc\u001b[0m in \u001b[0;36mgetresponse\u001b[0;34m(self, buffering)\u001b[0m\n\u001b[1;32m   1134\u001b[0m \u001b[1;33m\u001b[0m\u001b[0m\n\u001b[1;32m   1135\u001b[0m         \u001b[1;32mtry\u001b[0m\u001b[1;33m:\u001b[0m\u001b[1;33m\u001b[0m\u001b[0m\n\u001b[0;32m-> 1136\u001b[0;31m             \u001b[0mresponse\u001b[0m\u001b[1;33m.\u001b[0m\u001b[0mbegin\u001b[0m\u001b[1;33m(\u001b[0m\u001b[1;33m)\u001b[0m\u001b[1;33m\u001b[0m\u001b[0m\n\u001b[0m\u001b[1;32m   1137\u001b[0m             \u001b[1;32massert\u001b[0m \u001b[0mresponse\u001b[0m\u001b[1;33m.\u001b[0m\u001b[0mwill_close\u001b[0m \u001b[1;33m!=\u001b[0m \u001b[0m_UNKNOWN\u001b[0m\u001b[1;33m\u001b[0m\u001b[0m\n\u001b[1;32m   1138\u001b[0m             \u001b[0mself\u001b[0m\u001b[1;33m.\u001b[0m\u001b[0m__state\u001b[0m \u001b[1;33m=\u001b[0m \u001b[0m_CS_IDLE\u001b[0m\u001b[1;33m\u001b[0m\u001b[0m\n",
      "\u001b[0;32mC:\\Users\\Scott\\Anaconda2\\lib\\httplib.pyc\u001b[0m in \u001b[0;36mbegin\u001b[0;34m(self)\u001b[0m\n\u001b[1;32m    451\u001b[0m         \u001b[1;31m# read until we get a non-100 response\u001b[0m\u001b[1;33m\u001b[0m\u001b[1;33m\u001b[0m\u001b[0m\n\u001b[1;32m    452\u001b[0m         \u001b[1;32mwhile\u001b[0m \u001b[0mTrue\u001b[0m\u001b[1;33m:\u001b[0m\u001b[1;33m\u001b[0m\u001b[0m\n\u001b[0;32m--> 453\u001b[0;31m             \u001b[0mversion\u001b[0m\u001b[1;33m,\u001b[0m \u001b[0mstatus\u001b[0m\u001b[1;33m,\u001b[0m \u001b[0mreason\u001b[0m \u001b[1;33m=\u001b[0m \u001b[0mself\u001b[0m\u001b[1;33m.\u001b[0m\u001b[0m_read_status\u001b[0m\u001b[1;33m(\u001b[0m\u001b[1;33m)\u001b[0m\u001b[1;33m\u001b[0m\u001b[0m\n\u001b[0m\u001b[1;32m    454\u001b[0m             \u001b[1;32mif\u001b[0m \u001b[0mstatus\u001b[0m \u001b[1;33m!=\u001b[0m \u001b[0mCONTINUE\u001b[0m\u001b[1;33m:\u001b[0m\u001b[1;33m\u001b[0m\u001b[0m\n\u001b[1;32m    455\u001b[0m                 \u001b[1;32mbreak\u001b[0m\u001b[1;33m\u001b[0m\u001b[0m\n",
      "\u001b[0;32mC:\\Users\\Scott\\Anaconda2\\lib\\httplib.pyc\u001b[0m in \u001b[0;36m_read_status\u001b[0;34m(self)\u001b[0m\n\u001b[1;32m    407\u001b[0m     \u001b[1;32mdef\u001b[0m \u001b[0m_read_status\u001b[0m\u001b[1;33m(\u001b[0m\u001b[0mself\u001b[0m\u001b[1;33m)\u001b[0m\u001b[1;33m:\u001b[0m\u001b[1;33m\u001b[0m\u001b[0m\n\u001b[1;32m    408\u001b[0m         \u001b[1;31m# Initialize with Simple-Response defaults\u001b[0m\u001b[1;33m\u001b[0m\u001b[1;33m\u001b[0m\u001b[0m\n\u001b[0;32m--> 409\u001b[0;31m         \u001b[0mline\u001b[0m \u001b[1;33m=\u001b[0m \u001b[0mself\u001b[0m\u001b[1;33m.\u001b[0m\u001b[0mfp\u001b[0m\u001b[1;33m.\u001b[0m\u001b[0mreadline\u001b[0m\u001b[1;33m(\u001b[0m\u001b[0m_MAXLINE\u001b[0m \u001b[1;33m+\u001b[0m \u001b[1;36m1\u001b[0m\u001b[1;33m)\u001b[0m\u001b[1;33m\u001b[0m\u001b[0m\n\u001b[0m\u001b[1;32m    410\u001b[0m         \u001b[1;32mif\u001b[0m \u001b[0mlen\u001b[0m\u001b[1;33m(\u001b[0m\u001b[0mline\u001b[0m\u001b[1;33m)\u001b[0m \u001b[1;33m>\u001b[0m \u001b[0m_MAXLINE\u001b[0m\u001b[1;33m:\u001b[0m\u001b[1;33m\u001b[0m\u001b[0m\n\u001b[1;32m    411\u001b[0m             \u001b[1;32mraise\u001b[0m \u001b[0mLineTooLong\u001b[0m\u001b[1;33m(\u001b[0m\u001b[1;34m\"header line\"\u001b[0m\u001b[1;33m)\u001b[0m\u001b[1;33m\u001b[0m\u001b[0m\n",
      "\u001b[0;32mC:\\Users\\Scott\\Anaconda2\\lib\\socket.pyc\u001b[0m in \u001b[0;36mreadline\u001b[0;34m(self, size)\u001b[0m\n\u001b[1;32m    478\u001b[0m             \u001b[1;32mwhile\u001b[0m \u001b[0mTrue\u001b[0m\u001b[1;33m:\u001b[0m\u001b[1;33m\u001b[0m\u001b[0m\n\u001b[1;32m    479\u001b[0m                 \u001b[1;32mtry\u001b[0m\u001b[1;33m:\u001b[0m\u001b[1;33m\u001b[0m\u001b[0m\n\u001b[0;32m--> 480\u001b[0;31m                     \u001b[0mdata\u001b[0m \u001b[1;33m=\u001b[0m \u001b[0mself\u001b[0m\u001b[1;33m.\u001b[0m\u001b[0m_sock\u001b[0m\u001b[1;33m.\u001b[0m\u001b[0mrecv\u001b[0m\u001b[1;33m(\u001b[0m\u001b[0mself\u001b[0m\u001b[1;33m.\u001b[0m\u001b[0m_rbufsize\u001b[0m\u001b[1;33m)\u001b[0m\u001b[1;33m\u001b[0m\u001b[0m\n\u001b[0m\u001b[1;32m    481\u001b[0m                 \u001b[1;32mexcept\u001b[0m \u001b[0merror\u001b[0m\u001b[1;33m,\u001b[0m \u001b[0me\u001b[0m\u001b[1;33m:\u001b[0m\u001b[1;33m\u001b[0m\u001b[0m\n\u001b[1;32m    482\u001b[0m                     \u001b[1;32mif\u001b[0m \u001b[0me\u001b[0m\u001b[1;33m.\u001b[0m\u001b[0margs\u001b[0m\u001b[1;33m[\u001b[0m\u001b[1;36m0\u001b[0m\u001b[1;33m]\u001b[0m \u001b[1;33m==\u001b[0m \u001b[0mEINTR\u001b[0m\u001b[1;33m:\u001b[0m\u001b[1;33m\u001b[0m\u001b[0m\n",
      "\u001b[0;31mKeyboardInterrupt\u001b[0m: "
     ]
    }
   ],
   "source": [
    "for thing in things:\n",
    "    search_results = google.search(\"How big is a \" + thing + \"?\", 1)\n",
    "    thing_row = []\n",
    "    thing_row.append(thing)\n",
    "    for i, result in enumerate(search_results):\n",
    "        if i < 3:\n",
    "#             print('\\n')\n",
    "#             print(obj.capitalize() + ' ' + str(result.index + 1) + ' ---------')\n",
    "#             print(result.description)\n",
    "            thing_row.append(result.description.encode('utf-8').strip())\n",
    "#     print str(thing_row[0:100])\n",
    "    csv_writer.writerow(thing_row)"
   ]
  },
  {
   "cell_type": "code",
   "execution_count": 4,
   "metadata": {
    "collapsed": false
   },
   "outputs": [],
   "source": [
    "r_objs = 'cleaned_basic_objects_R.txt'\n",
    "with open(r_objs, 'rb') as f:\n",
    "    things = []\n",
    "    reader = csv.reader(f)\n",
    "    for i, row in enumerate(reader):\n",
    "        if row[0:2] != '//':\n",
    "            things.append(row)\n"
   ]
  },
  {
   "cell_type": "code",
   "execution_count": null,
   "metadata": {
    "collapsed": false
   },
   "outputs": [],
   "source": [
    "print(things)"
   ]
  },
  {
   "cell_type": "code",
   "execution_count": null,
   "metadata": {
    "collapsed": false
   },
   "outputs": [],
   "source": [
    "for thing in things:\n",
    "    search_results = google.search(\"How big is a \" + thing + \"?\", 1)\n",
    "    thing_row = []\n",
    "    thing_row.append(thing)\n",
    "    for i, result in enumerate(search_results):\n",
    "        if i < 3:\n",
    "#             print('\\n')\n",
    "#             print(obj.capitalize() + ' ' + str(result.index + 1) + ' ---------')\n",
    "#             print(result.description)\n",
    "            thing_row.append(result.description.encode('utf-8').strip())\n",
    "    print str(thing_row[0:10])\n",
    "    csv_writer.writerow(thing_row)"
   ]
  },
  {
   "cell_type": "code",
   "execution_count": null,
   "metadata": {
    "collapsed": true
   },
   "outputs": [],
   "source": []
  }
 ],
 "metadata": {
  "anaconda-cloud": {},
  "kernelspec": {
   "display_name": "Python [Root]",
   "language": "python",
   "name": "Python [Root]"
  },
  "language_info": {
   "codemirror_mode": {
    "name": "ipython",
    "version": 2
   },
   "file_extension": ".py",
   "mimetype": "text/x-python",
   "name": "python",
   "nbconvert_exporter": "python",
   "pygments_lexer": "ipython2",
   "version": "2.7.12"
  }
 },
 "nbformat": 4,
 "nbformat_minor": 1
}
