{
 "cells": [
  {
   "cell_type": "code",
   "execution_count": 20,
   "metadata": {
    "collapsed": false
   },
   "outputs": [
    {
     "name": "stdout",
     "output_type": "stream",
     "text": [
      "Ranges of responses\n",
      "words\n",
      "Aardvark               NaN\n",
      "Aardwolf               NaN\n",
      "Accelerator            4.0\n",
      "Account                6.0\n",
      "Address Book           NaN\n",
      "African Buffalo        NaN\n",
      "African Elephant       4.0\n",
      "African Leopard        4.0\n",
      "African Wild Dog       NaN\n",
      "Air Freshener          5.0\n",
      "Airplane               NaN\n",
      "Airport                NaN\n",
      "Alarm                  NaN\n",
      "Alarm Clock            NaN\n",
      "Albatross              5.0\n",
      "Albertosaurus          NaN\n",
      "Alligator              NaN\n",
      "Allosaurus             NaN\n",
      "Alpaca                 NaN\n",
      "American Bison         6.0\n",
      "American Black Bear    NaN\n",
      "American Robin         4.0\n",
      "Anaconda               NaN\n",
      "Angelfish              NaN\n",
      "Angle                  NaN\n",
      "Anglerfish             NaN\n",
      "Ankylosaurus           6.0\n",
      "Ant                    7.0\n",
      "Anteater               NaN\n",
      "Antelope               NaN\n",
      "                      ... \n",
      "Windshield Wiper       NaN\n",
      "Wing                   NaN\n",
      "Wire                   NaN\n",
      "Withdraw               NaN\n",
      "Wolf                   NaN\n",
      "Wolverine              NaN\n",
      "Wombat                 NaN\n",
      "Wood Lemming           5.0\n",
      "Woodchuck              NaN\n",
      "Woodpecker             NaN\n",
      "Woods                  NaN\n",
      "Woolly Dormouse        NaN\n",
      "Woolly Hare            NaN\n",
      "Woolly Mammoth         NaN\n",
      "Woolly Rhinoceros      NaN\n",
      "Worm                   NaN\n",
      "Wren                   6.0\n",
      "Wrench                 NaN\n",
      "X-ray Fish             NaN\n",
      "Yak                    NaN\n",
      "Yapok                  NaN\n",
      "Yellow Jacket          NaN\n",
      "Yellow Perch           NaN\n",
      "Zebra                  5.0\n",
      "Zebra Duiker           5.0\n",
      "Zebra Finch            NaN\n",
      "Zebra Shark            NaN\n",
      "Zebu                   NaN\n",
      "Zipper                 6.0\n",
      "Zorilla                NaN\n",
      "Name: size, dtype: float64\n"
     ]
    }
   ],
   "source": [
    "import pandas as pd\n",
    "import numpy as np\n",
    "\n",
    "turk = pd.read_csv('Batch_3184697_batch_results_edit.csv')\n",
    "turk = pd.DataFrame(turk)\n",
    "\n",
    "basic = turk[['Input.WORDS','Answer.categories']].copy()\n",
    "basic.columns = ['words', 'size']\n",
    "\n",
    "basic.sort_values(by=['words'], ascending=[True])\n",
    "\n",
    "outfile = basic.groupby(['words'])['size'].mean().astype(int)\n",
    "top = basic.groupby(['words'])['size'].max()\n",
    "bot = basic.groupby(['words'])['size'].min()\n",
    "\n",
    "print('Ranges of responses')\n",
    "print(top-bot[top-bot > 3])\n",
    "\n",
    "outfile.to_csv(\"corpus.csv\", sep='\\t')\n"
   ]
  },
  {
   "cell_type": "code",
   "execution_count": null,
   "metadata": {
    "collapsed": true
   },
   "outputs": [],
   "source": [
    "### Junk\n",
    "\n",
    "\n",
    "\"\"\"\n",
    "df2 = basic.pivot(index='words',\n",
    "                    columns='size',\n",
    "                    values='size')\n",
    "print(basic.groupby(\"words\").sum())\n",
    "\n",
    "\n",
    "\n",
    "print(basic)\n",
    "basic.sort_values(by=['Input.WORDS','Answer.categories'], ascending=[True, True])\n",
    "\n",
    "basic.loc[:,'size'].to_replace('category ')\n",
    "basic[\"size\"].str.replace('category ', '', n=-1)\n",
    "\n",
    "\"\"\"\n"
   ]
  }
 ],
 "metadata": {
  "anaconda-cloud": {},
  "kernelspec": {
   "display_name": "Python [Root]",
   "language": "python",
   "name": "Python [Root]"
  },
  "language_info": {
   "codemirror_mode": {
    "name": "ipython",
    "version": 2
   },
   "file_extension": ".py",
   "mimetype": "text/x-python",
   "name": "python",
   "nbconvert_exporter": "python",
   "pygments_lexer": "ipython2",
   "version": "2.7.12"
  }
 },
 "nbformat": 4,
 "nbformat_minor": 0
}
